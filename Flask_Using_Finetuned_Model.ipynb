{
  "nbformat": 4,
  "nbformat_minor": 0,
  "metadata": {
    "colab": {
      "provenance": []
    },
    "kernelspec": {
      "name": "python3",
      "display_name": "Python 3"
    },
    "language_info": {
      "name": "python"
    }
  },
  "cells": [
    {
      "cell_type": "code",
      "execution_count": null,
      "metadata": {
        "id": "SxfxcLy0v1Mv"
      },
      "outputs": [],
      "source": [
        "from flask import Flask, request, jsonify\n",
        "from flask_cors import CORS\n",
        "from transformers import pipeline\n",
        "import pdfplumber\n",
        "import os\n",
        "\n",
        "app = Flask(__name__)\n",
        "CORS(app)\n",
        "\n",
        "# Load fine-tuned model\n",
        "summarizer = pipeline(\"summarization\", model=\"./bart-cnn-finetuned\", tokenizer=\"./bart-cnn-finetuned\")\n",
        "\n",
        "MAX_LEN = 1024\n",
        "ALLOWED_EXTENSIONS = {\"pdf\", \"txt\"}\n",
        "TEMP_DIR = \"temp\"\n",
        "\n",
        "def is_valid(filename):\n",
        "    return '.' in filename and filename.rsplit('.', 1)[1].lower() in ALLOWED_EXTENSIONS\n",
        "\n",
        "def extract_text(path, ext):\n",
        "    if ext == \"pdf\":\n",
        "        with pdfplumber.open(path) as pdf:\n",
        "            return \" \".join(page.extract_text() or \"\" for page in pdf.pages)\n",
        "    with open(path, \"r\", encoding=\"utf-8\") as f:\n",
        "        return f.read()\n",
        "\n",
        "@app.route(\"/summarize\", methods=[\"POST\"])\n",
        "def summarize_file():\n",
        "    if \"file\" not in request.files:\n",
        "        return jsonify({\"error\": \"No file uploaded\"}), 400\n",
        "\n",
        "    file = request.files[\"file\"]\n",
        "    if not file or not is_valid(file.filename):\n",
        "        return jsonify({\"error\": \"Invalid file type\"}), 400\n",
        "\n",
        "    os.makedirs(TEMP_DIR, exist_ok=True)\n",
        "    path = os.path.join(TEMP_DIR, file.filename)\n",
        "    file.save(path)\n",
        "\n",
        "    try:\n",
        "        ext = file.filename.rsplit(\".\", 1)[1].lower()\n",
        "        text = extract_text(path, ext)\n",
        "        if len(text) > MAX_LEN:\n",
        "            text = text[:MAX_LEN]\n",
        "\n",
        "        result = summarizer(text, max_length=130, min_length=30, do_sample=False)\n",
        "        summary = result[0]['summary_text']\n",
        "\n",
        "        return jsonify({\n",
        "            \"summary\": summary,\n",
        "            \"original_length\": len(text),\n",
        "            \"summary_length\": len(summary)\n",
        "        })\n",
        "    finally:\n",
        "        if os.path.exists(path):\n",
        "            os.remove(path)\n",
        "\n",
        "if __name__ == \"__main__\":\n",
        "    app.run(debug=True)"
      ]
    }
  ]
}