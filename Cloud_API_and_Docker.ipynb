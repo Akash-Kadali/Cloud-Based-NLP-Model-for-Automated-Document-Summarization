{
 "cells": [
  {
   "cell_type": "markdown",
   "id": "f8f62b03",
   "metadata": {},
   "source": [
    "# Week 4: API Development, Containerization & Cloud Readiness\n",
    "\n",
    "This notebook covers Week 4 tasks:\n",
    "- Finalizing API with FastAPI or Flask\n",
    "- Containerizing the app using Docker\n",
    "- Preparing for deployment on cloud (GCP/AWS)\n",
    "- Load testing and monitoring setup (preview only)\n"
   ]
  },
  {
   "cell_type": "code",
   "execution_count": null,
   "id": "10d1a6a9",
   "metadata": {},
   "outputs": [],
   "source": [
    "# ✅ Load Fine-Tuned BART Model\n",
    "from transformers import pipeline\n",
    "\n",
    "# Load model from local directory (adjust path as needed)\n",
    "summarizer = pipeline('summarization', model='./bart-cnn-finetuned', tokenizer='./bart-cnn-finetuned')\n",
    "\n",
    "# Test on sample text\n",
    "sample_text = '''The CNN/DailyMail dataset is a large-scale dataset for summarization. It contains articles paired with multi-sentence summaries. Models fine-tuned on this data perform well on real-world long-document summarization tasks.'''\n",
    "summary = summarizer(sample_text, max_length=130, min_length=30, do_sample=False)\n",
    "print(summary[0]['summary_text'])"
   ]
  },
  {
   "cell_type": "markdown",
   "id": "58e2f0ef",
   "metadata": {},
   "source": [
    "## 🐳 Dockerfile Preview\n",
    "Here is the Dockerfile used to containerize the app:\n",
    "```dockerfile\n",
    "FROM python:3.10-slim\n",
    "WORKDIR /app\n",
    "COPY . .\n",
    "RUN apt-get update && apt-get install -y \\\n",
    "    build-essential \\\n",
    "    libpoppler-cpp-dev \\\n",
    "    pkg-config \\\n",
    "    python3-dev && \\\n",
    "    apt-get clean && rm -rf /var/lib/apt/lists/*\n",
    "RUN pip install --upgrade pip\n",
    "RUN pip install -r requirements.txt\n",
    "EXPOSE 5000\n",
    "CMD [\"python\", \"app.py\"]\n",
    "```\n"
   ]
  },
  {
   "cell_type": "markdown",
   "id": "1aec43a1",
   "metadata": {},
   "source": [
    "## ✅ Load Testing (Optional Preview)\n",
    "You can use tools like `Locust` or `JMeter` for load testing. Here's an example Locust script outline:\n",
    "```python\n",
    "from locust import HttpUser, task\n",
    "\n",
    "class SummarizerUser(HttpUser):\n",
    "    @task\n",
    "    def summarize(self):\n",
    "        with open(\"sample.pdf\", \"rb\") as f:\n",
    "            self.client.post(\"/summarize\", files={\"file\": f})\n",
    "```\n",
    "Run with:\n",
    "```\n",
    "locust -f locustfile.py --host=http://localhost:5000\n",
    "```\n"
   ]
  }
 ],
 "metadata": {
  "language_info": {
   "name": "python"
  }
 },
 "nbformat": 4,
 "nbformat_minor": 5
}
